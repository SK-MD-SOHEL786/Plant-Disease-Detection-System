{
 "cells": [
  {
   "cell_type": "markdown",
   "id": "3ffb0b2f-e6f9-4a48-9f2e-16ba51a81a6f",
   "metadata": {},
   "source": [
    "IMPORTING LIBRARIES"
   ]
  },
  {
   "cell_type": "code",
   "execution_count": 5,
   "id": "4e4e8e4d-685c-412a-a7a7-f6b2b7883f0f",
   "metadata": {},
   "outputs": [],
   "source": [
    "import tensorflow as tf\n",
    "import pandas as pd \n",
    "import seaborn as sns\n",
    "import matplotlib.pyplot as plt"
   ]
  },
  {
   "cell_type": "markdown",
   "id": "95411e24-04cd-4cda-b27f-cd52a91f7506",
   "metadata": {
    "jp-MarkdownHeadingCollapsed": true
   },
   "source": [
    "DATA PREPROCESSING"
   ]
  },
  {
   "cell_type": "markdown",
   "id": "3f93bf91-93ae-4f5c-ad75-9cd6428a8808",
   "metadata": {},
   "source": [
    "Training Image Processing  (keras imgae data loading all explanation mentioned)\n"
   ]
  },
  {
   "cell_type": "code",
   "execution_count": 2,
   "id": "837e3e78-0895-4e6b-8f85-cc6dd55fae32",
   "metadata": {},
   "outputs": [
    {
     "name": "stdout",
     "output_type": "stream",
     "text": [
      "Found 10000 files belonging to 10 classes.\n"
     ]
    }
   ],
   "source": [
    "training_set= tf.keras.utils.image_dataset_from_directory(\n",
    "    'train',\n",
    "    labels=\"inferred\",\n",
    "    label_mode=\"categorical\",\n",
    "    class_names=None,\n",
    "    color_mode=\"rgb\",\n",
    "    batch_size=32,\n",
    "    image_size=(128, 128),\n",
    "    shuffle=True,\n",
    "    seed=None,\n",
    "    validation_split=None,\n",
    "    subset=None,\n",
    "    interpolation=\"bilinear\",\n",
    "    follow_links=False,\n",
    "    crop_to_aspect_ratio=False,\n",
    "    \n",
    ")"
   ]
  },
  {
   "cell_type": "markdown",
   "id": "08e8e99c-2db1-4b39-8b6a-6ffdb21189a1",
   "metadata": {},
   "source": [
    "labels =\"inferred\"  ---> it means go to my directory and take the label name as what ever the class name is there\n",
    "labels =classes     label1=bacterial_spot  lebel2 ...\n",
    "class_names =\"none \"  ---->   label is already given so no class name reqired\n",
    "batch_size=32      ---> At a time 32 images are going to feed in the model\n",
    "image_size=128,128\n",
    "shuffle=True   ----> shuffle the classes at the time of training the model "
   ]
  },
  {
   "cell_type": "code",
   "execution_count": 3,
   "id": "b5785455-ff32-4a61-b04a-8b825043c43c",
   "metadata": {},
   "outputs": [
    {
     "name": "stdout",
     "output_type": "stream",
     "text": [
      "Found 963 files belonging to 10 classes.\n"
     ]
    }
   ],
   "source": [
    "validation_set= tf.keras.utils.image_dataset_from_directory(\n",
    "    'val',\n",
    "    labels=\"inferred\",\n",
    "    label_mode=\"categorical\",\n",
    "    class_names=None,\n",
    "    color_mode=\"rgb\",\n",
    "    batch_size=32,\n",
    "    image_size=(128, 128),\n",
    "    shuffle=True,\n",
    "    seed=None,\n",
    "    validation_split=None,\n",
    "    subset=None,\n",
    "    interpolation=\"bilinear\",\n",
    "    follow_links=False,\n",
    "    crop_to_aspect_ratio=False,\n",
    ")"
   ]
  },
  {
   "cell_type": "markdown",
   "id": "dfbec29b-bf6c-468d-8284-7898974b4f10",
   "metadata": {},
   "source": [
    "##training_set --> run it and we will get the full info about the training set  \n",
    "o/p--> <BatchDataset element_spec=(TensorSpec(shape=(None, 128, 128, 3), dtype=tf.float32, name=None)\n",
    "                                   , TensorSpec(shape=(None, 10), dtype=tf.float32, name=None))>\n",
    "128,128 -->image size ,3-->RGB format,   "
   ]
  },
  {
   "cell_type": "code",
   "execution_count": 4,
   "id": "aee0457c-c16d-469f-880c-52fa5364333a",
   "metadata": {},
   "outputs": [
    {
     "data": {
      "text/plain": [
       "<BatchDataset element_spec=(TensorSpec(shape=(None, 128, 128, 3), dtype=tf.float32, name=None), TensorSpec(shape=(None, 10), dtype=tf.float32, name=None))>"
      ]
     },
     "execution_count": 4,
     "metadata": {},
     "output_type": "execute_result"
    }
   ],
   "source": [
    "training_set"
   ]
  },
  {
   "cell_type": "markdown",
   "id": "b215df61-c43c-4f20-a00c-b460cc8487a5",
   "metadata": {},
   "source": [
    "BUILDING MODEL"
   ]
  },
  {
   "cell_type": "code",
   "execution_count": 5,
   "id": "76d95b94-a468-4a18-b328-3de99ddba574",
   "metadata": {},
   "outputs": [],
   "source": [
    "from tensorflow.keras.layers import Conv2D,Dense,MaxPool2D,Flatten,Dropout\n",
    "from tensorflow.keras.models import Sequential"
   ]
  },
  {
   "cell_type": "code",
   "execution_count": 6,
   "id": "0c971b75-3565-4db0-b344-bc4e263cf5cf",
   "metadata": {},
   "outputs": [],
   "source": [
    "model=Sequential()"
   ]
  },
  {
   "cell_type": "markdown",
   "id": "77a63963-57c4-4ddb-9353-91c66d8722e3",
   "metadata": {},
   "source": [
    "BUILDING CONVOLUTIONAL LAYER"
   ]
  },
  {
   "cell_type": "code",
   "execution_count": 7,
   "id": "cd1bed92-847a-4f57-b2ff-b78627522966",
   "metadata": {},
   "outputs": [],
   "source": [
    "model.add(Conv2D(filters=32,kernel_size=3,padding='same',activation='relu',input_shape=[128,128,3]))\n",
    "model.add(Conv2D(filters=32,kernel_size=3,activation='relu'))\n",
    "model.add(MaxPool2D(pool_size=2,strides=2))"
   ]
  },
  {
   "cell_type": "code",
   "execution_count": 8,
   "id": "05d1c896-1f7e-46f7-b7c8-f589b5e095f3",
   "metadata": {},
   "outputs": [],
   "source": [
    "model.add(Conv2D(filters=64,kernel_size=3,padding='same',activation='relu'))\n",
    "model.add(Conv2D(filters=64,kernel_size=3,activation='relu'))\n",
    "model.add(MaxPool2D(pool_size=2,strides=2))"
   ]
  },
  {
   "cell_type": "code",
   "execution_count": 9,
   "id": "8e2d0cca-19db-4dee-ac22-25fed456948a",
   "metadata": {},
   "outputs": [],
   "source": [
    "model.add(Conv2D(filters=128,kernel_size=3,padding='same',activation='relu'))\n",
    "model.add(Conv2D(filters=128,kernel_size=3,activation='relu'))\n",
    "model.add(MaxPool2D(pool_size=2,strides=2))"
   ]
  },
  {
   "cell_type": "code",
   "execution_count": 10,
   "id": "ea0a92fd-4925-4f6e-84ce-b2142bf422bc",
   "metadata": {},
   "outputs": [],
   "source": [
    "model.add(Conv2D(filters=256,kernel_size=3,padding='same',activation='relu'))\n",
    "model.add(Conv2D(filters=256,kernel_size=3,activation='relu'))\n",
    "model.add(MaxPool2D(pool_size=2,strides=2))"
   ]
  },
  {
   "cell_type": "code",
   "execution_count": 11,
   "id": "d6d00080-3c0d-4eda-aeb4-d2ba163c9b9b",
   "metadata": {},
   "outputs": [],
   "source": [
    "model.add(Conv2D(filters=512,kernel_size=3,padding='same',activation='relu'))\n",
    "model.add(Conv2D(filters=512,kernel_size=3,activation='relu'))\n",
    "model.add(MaxPool2D(pool_size=2,strides=2))"
   ]
  },
  {
   "cell_type": "code",
   "execution_count": 12,
   "id": "1dc2f061-c617-4be6-902e-312a2cd3cbce",
   "metadata": {},
   "outputs": [],
   "source": [
    "model.add(Dropout(0.25))"
   ]
  },
  {
   "cell_type": "code",
   "execution_count": 13,
   "id": "1babfe6b-6348-42e8-93e0-48a89f2acca8",
   "metadata": {},
   "outputs": [],
   "source": [
    "model.add(Flatten())"
   ]
  },
  {
   "cell_type": "code",
   "execution_count": 14,
   "id": "1a132b80-1c2c-4b8c-b81e-cd42c9bc4eae",
   "metadata": {},
   "outputs": [],
   "source": [
    "model.add(Dense(units=1024,activation='relu'))"
   ]
  },
  {
   "cell_type": "code",
   "execution_count": 15,
   "id": "aee12b86-ed91-424c-aee8-daca01c7e874",
   "metadata": {},
   "outputs": [],
   "source": [
    "##output layer\n",
    "model.add(Dense(units=10,activation='softmax'))"
   ]
  },
  {
   "cell_type": "markdown",
   "id": "4fffa771-f1c7-40c6-be48-e8a589adb8ec",
   "metadata": {},
   "source": [
    "COMPILING MODEL"
   ]
  },
  {
   "cell_type": "code",
   "execution_count": 16,
   "id": "1477e2b4-96a6-441d-89d6-c5c5ae95335b",
   "metadata": {},
   "outputs": [],
   "source": [
    "model.compile(optimizer=tf.keras.optimizers.Adam(learning_rate=.0001),loss='categorical_crossentropy',metrics=['accuracy'])"
   ]
  },
  {
   "cell_type": "code",
   "execution_count": 17,
   "id": "08804a6c-7fdd-4ff6-941f-9cad6058272d",
   "metadata": {},
   "outputs": [
    {
     "name": "stdout",
     "output_type": "stream",
     "text": [
      "Model: \"sequential\"\n",
      "_________________________________________________________________\n",
      " Layer (type)                Output Shape              Param #   \n",
      "=================================================================\n",
      " conv2d (Conv2D)             (None, 128, 128, 32)      896       \n",
      "                                                                 \n",
      " conv2d_1 (Conv2D)           (None, 126, 126, 32)      9248      \n",
      "                                                                 \n",
      " max_pooling2d (MaxPooling2D  (None, 63, 63, 32)       0         \n",
      " )                                                               \n",
      "                                                                 \n",
      " conv2d_2 (Conv2D)           (None, 63, 63, 64)        18496     \n",
      "                                                                 \n",
      " conv2d_3 (Conv2D)           (None, 61, 61, 64)        36928     \n",
      "                                                                 \n",
      " max_pooling2d_1 (MaxPooling  (None, 30, 30, 64)       0         \n",
      " 2D)                                                             \n",
      "                                                                 \n",
      " conv2d_4 (Conv2D)           (None, 30, 30, 128)       73856     \n",
      "                                                                 \n",
      " conv2d_5 (Conv2D)           (None, 28, 28, 128)       147584    \n",
      "                                                                 \n",
      " max_pooling2d_2 (MaxPooling  (None, 14, 14, 128)      0         \n",
      " 2D)                                                             \n",
      "                                                                 \n",
      " conv2d_6 (Conv2D)           (None, 14, 14, 256)       295168    \n",
      "                                                                 \n",
      " conv2d_7 (Conv2D)           (None, 12, 12, 256)       590080    \n",
      "                                                                 \n",
      " max_pooling2d_3 (MaxPooling  (None, 6, 6, 256)        0         \n",
      " 2D)                                                             \n",
      "                                                                 \n",
      " conv2d_8 (Conv2D)           (None, 6, 6, 512)         1180160   \n",
      "                                                                 \n",
      " conv2d_9 (Conv2D)           (None, 4, 4, 512)         2359808   \n",
      "                                                                 \n",
      " max_pooling2d_4 (MaxPooling  (None, 2, 2, 512)        0         \n",
      " 2D)                                                             \n",
      "                                                                 \n",
      " dropout (Dropout)           (None, 2, 2, 512)         0         \n",
      "                                                                 \n",
      " flatten (Flatten)           (None, 2048)              0         \n",
      "                                                                 \n",
      " dense (Dense)               (None, 1024)              2098176   \n",
      "                                                                 \n",
      " dense_1 (Dense)             (None, 10)                10250     \n",
      "                                                                 \n",
      "=================================================================\n",
      "Total params: 6,820,650\n",
      "Trainable params: 6,820,650\n",
      "Non-trainable params: 0\n",
      "_________________________________________________________________\n"
     ]
    }
   ],
   "source": [
    "model.summary()"
   ]
  },
  {
   "cell_type": "markdown",
   "id": "3de3179b-1e2a-46fd-9541-96b6ef822e04",
   "metadata": {},
   "source": [
    "MODEL TRAINING"
   ]
  },
  {
   "cell_type": "code",
   "execution_count": 18,
   "id": "98055a55-3eb6-4921-95f4-cf73e8c87701",
   "metadata": {},
   "outputs": [
    {
     "name": "stdout",
     "output_type": "stream",
     "text": [
      "Epoch 1/10\n",
      "313/313 [==============================] - 389s 1s/step - loss: 1.3986 - accuracy: 0.5032 - val_loss: 0.7628 - val_accuracy: 0.7352\n",
      "Epoch 2/10\n",
      "313/313 [==============================] - 365s 1s/step - loss: 0.6390 - accuracy: 0.7710 - val_loss: 0.9520 - val_accuracy: 0.6854\n",
      "Epoch 3/10\n",
      "313/313 [==============================] - 358s 1s/step - loss: 0.4424 - accuracy: 0.8445 - val_loss: 0.4472 - val_accuracy: 0.8546\n",
      "Epoch 4/10\n",
      "313/313 [==============================] - 363s 1s/step - loss: 0.3160 - accuracy: 0.8888 - val_loss: 0.4020 - val_accuracy: 0.8577\n",
      "Epoch 5/10\n",
      "313/313 [==============================] - 356s 1s/step - loss: 0.2549 - accuracy: 0.9116 - val_loss: 0.4809 - val_accuracy: 0.8463\n",
      "Epoch 6/10\n",
      "313/313 [==============================] - 630s 2s/step - loss: 0.1955 - accuracy: 0.9318 - val_loss: 0.3721 - val_accuracy: 0.8744\n",
      "Epoch 7/10\n",
      "313/313 [==============================] - 666s 2s/step - loss: 0.1570 - accuracy: 0.9441 - val_loss: 0.3734 - val_accuracy: 0.8785\n",
      "Epoch 8/10\n",
      "313/313 [==============================] - 666s 2s/step - loss: 0.1223 - accuracy: 0.9575 - val_loss: 0.3687 - val_accuracy: 0.8910\n",
      "Epoch 9/10\n",
      "313/313 [==============================] - 673s 2s/step - loss: 0.1100 - accuracy: 0.9620 - val_loss: 0.3662 - val_accuracy: 0.8806\n",
      "Epoch 10/10\n",
      "313/313 [==============================] - 680s 2s/step - loss: 0.0808 - accuracy: 0.9715 - val_loss: 0.5308 - val_accuracy: 0.8619\n"
     ]
    }
   ],
   "source": [
    "training_history=model.fit(x=training_set,validation_data=validation_set,epochs=10)"
   ]
  },
  {
   "cell_type": "markdown",
   "id": "d420ef01-b445-4bf6-a394-fb022b6057e2",
   "metadata": {},
   "source": [
    "MODEL EVALUATION"
   ]
  },
  {
   "cell_type": "code",
   "execution_count": 19,
   "id": "3f930d57-6762-49b0-b149-6631e613d7f8",
   "metadata": {},
   "outputs": [
    {
     "name": "stdout",
     "output_type": "stream",
     "text": [
      "313/313 [==============================] - 99s 316ms/step - loss: 0.1509 - accuracy: 0.9452\n"
     ]
    }
   ],
   "source": [
    "train_loss,train_accuracy=model.evaluate(training_set)"
   ]
  },
  {
   "cell_type": "code",
   "execution_count": 20,
   "id": "a493aff2-5fd6-44c2-aa86-5a611edded9b",
   "metadata": {},
   "outputs": [
    {
     "name": "stdout",
     "output_type": "stream",
     "text": [
      "0.1508948802947998 0.9452000260353088\n"
     ]
    }
   ],
   "source": [
    "print(train_loss,train_accuracy)"
   ]
  },
  {
   "cell_type": "code",
   "execution_count": 21,
   "id": "c99a0bae-8742-4738-9b27-6b7108e596b2",
   "metadata": {},
   "outputs": [
    {
     "name": "stdout",
     "output_type": "stream",
     "text": [
      "31/31 [==============================] - 10s 306ms/step - loss: 0.5308 - accuracy: 0.8619\n"
     ]
    }
   ],
   "source": [
    "val_loss,val_accuracy=model.evaluate(validation_set)"
   ]
  },
  {
   "cell_type": "code",
   "execution_count": 22,
   "id": "31a45c37-fc02-42ae-a228-2da949c65b57",
   "metadata": {},
   "outputs": [
    {
     "name": "stdout",
     "output_type": "stream",
     "text": [
      "0.53084397315979 0.8618898987770081\n"
     ]
    }
   ],
   "source": [
    "print(val_loss,val_accuracy)"
   ]
  },
  {
   "cell_type": "markdown",
   "id": "3f29d317-48d2-4ba4-ae5e-7e24bced6c3a",
   "metadata": {},
   "source": [
    "SAVING MODEL"
   ]
  },
  {
   "cell_type": "code",
   "execution_count": 26,
   "id": "79438860-9e4e-48f2-969b-d0edf2756d84",
   "metadata": {},
   "outputs": [],
   "source": [
    "model.save(\"trained_Model.keras\")"
   ]
  },
  {
   "cell_type": "code",
   "execution_count": 24,
   "id": "2695f889-b123-4dd6-8050-f7559188efb1",
   "metadata": {},
   "outputs": [],
   "source": [
    "model.save(\"Trained_Model.keras\")"
   ]
  },
  {
   "cell_type": "markdown",
   "id": "f5c84158-927a-4660-9bb5-39c5a2431204",
   "metadata": {},
   "source": [
    "if we dont save the model then when using this model we have to trian it again and again so saving is a required thing"
   ]
  },
  {
   "cell_type": "code",
   "execution_count": 27,
   "id": "8f443e49-4b43-44b5-9fa7-053ccf9b9e29",
   "metadata": {},
   "outputs": [
    {
     "data": {
      "text/plain": [
       "{'loss': [1.3986177444458008,\n",
       "  0.6390462517738342,\n",
       "  0.44244271516799927,\n",
       "  0.3159860670566559,\n",
       "  0.25492653250694275,\n",
       "  0.19550791382789612,\n",
       "  0.1570483148097992,\n",
       "  0.12228720635175705,\n",
       "  0.10998232662677765,\n",
       "  0.08077903836965561],\n",
       " 'accuracy': [0.5031999945640564,\n",
       "  0.7710000276565552,\n",
       "  0.8445000052452087,\n",
       "  0.8888000249862671,\n",
       "  0.9115999937057495,\n",
       "  0.9318000078201294,\n",
       "  0.944100022315979,\n",
       "  0.9574999809265137,\n",
       "  0.9620000123977661,\n",
       "  0.9714999794960022],\n",
       " 'val_loss': [0.7628183960914612,\n",
       "  0.9519916772842407,\n",
       "  0.4472256600856781,\n",
       "  0.4020054042339325,\n",
       "  0.48085489869117737,\n",
       "  0.37210118770599365,\n",
       "  0.373425155878067,\n",
       "  0.3686709702014923,\n",
       "  0.36619991064071655,\n",
       "  0.5308440923690796],\n",
       " 'val_accuracy': [0.7352024912834167,\n",
       "  0.6853582262992859,\n",
       "  0.8546209931373596,\n",
       "  0.8577362298965454,\n",
       "  0.8463135957717896,\n",
       "  0.8743509650230408,\n",
       "  0.8785046935081482,\n",
       "  0.8909657597541809,\n",
       "  0.8805814981460571,\n",
       "  0.8618898987770081]}"
      ]
     },
     "execution_count": 27,
     "metadata": {},
     "output_type": "execute_result"
    }
   ],
   "source": [
    "training_history.history"
   ]
  },
  {
   "cell_type": "markdown",
   "id": "dc325642-10e1-4e2b-a052-cc71313d6eb5",
   "metadata": {},
   "source": [
    "SAVING HISTORY IN JSON FILE"
   ]
  },
  {
   "cell_type": "code",
   "execution_count": 29,
   "id": "9b6ef182-b21f-4049-b63b-e0e5bcd6a6dc",
   "metadata": {},
   "outputs": [],
   "source": [
    "import json\n",
    "with open(\"training_hist.json\",\"w\") as f:\n",
    "    json.dump(training_history.history,f)"
   ]
  },
  {
   "cell_type": "code",
   "execution_count": 30,
   "id": "5424d987-1abd-47dd-9e5a-dd8232e5ea3f",
   "metadata": {},
   "outputs": [
    {
     "data": {
      "text/plain": [
       "[1, 2, 3, 4, 5, 6, 7, 8, 9, 10]"
      ]
     },
     "execution_count": 30,
     "metadata": {},
     "output_type": "execute_result"
    }
   ],
   "source": [
    "epochs=[i for i in range (1,11)]\n",
    "epochs"
   ]
  },
  {
   "cell_type": "code",
   "execution_count": 1,
   "id": "2eb16f54-1bcd-466b-b76b-a1c3e237d6a6",
   "metadata": {},
   "outputs": [
    {
     "ename": "NameError",
     "evalue": "name 'plt' is not defined",
     "output_type": "error",
     "traceback": [
      "\u001b[1;31m---------------------------------------------------------------------------\u001b[0m",
      "\u001b[1;31mNameError\u001b[0m                                 Traceback (most recent call last)",
      "Cell \u001b[1;32mIn[1], line 1\u001b[0m\n\u001b[1;32m----> 1\u001b[0m \u001b[43mplt\u001b[49m\u001b[38;5;241m.\u001b[39mplot(epochs,training_history\u001b[38;5;241m.\u001b[39mhistory[\u001b[38;5;124m'\u001b[39m\u001b[38;5;124maccuracy\u001b[39m\u001b[38;5;124m'\u001b[39m],color\u001b[38;5;241m=\u001b[39m\u001b[38;5;124m'\u001b[39m\u001b[38;5;124mred\u001b[39m\u001b[38;5;124m'\u001b[39m,label\u001b[38;5;241m=\u001b[39m\u001b[38;5;124m'\u001b[39m\u001b[38;5;124mTraining Accuracy\u001b[39m\u001b[38;5;124m'\u001b[39m)\n\u001b[0;32m      2\u001b[0m plt\u001b[38;5;241m.\u001b[39mplot(epochs,training_history\u001b[38;5;241m.\u001b[39mhistory[\u001b[38;5;124m'\u001b[39m\u001b[38;5;124mval_accuracy\u001b[39m\u001b[38;5;124m'\u001b[39m],color\u001b[38;5;241m=\u001b[39m\u001b[38;5;124m'\u001b[39m\u001b[38;5;124mblue\u001b[39m\u001b[38;5;124m'\u001b[39m,label\u001b[38;5;241m=\u001b[39m\u001b[38;5;124m'\u001b[39m\u001b[38;5;124mValidation Accuracy\u001b[39m\u001b[38;5;124m'\u001b[39m)\n\u001b[0;32m      3\u001b[0m plt\u001b[38;5;241m.\u001b[39mshow()\n",
      "\u001b[1;31mNameError\u001b[0m: name 'plt' is not defined"
     ]
    }
   ],
   "source": [
    "plt.plot(epochs,training_history.history['accuracy'],color='red',label='Training Accuracy')\n",
    "plt.plot(epochs,training_history.history['val_accuracy'],color='blue',label='Validation Accuracy')\n",
    "plt.show()"
   ]
  },
  {
   "cell_type": "code",
   "execution_count": 3,
   "id": "8b1f912d-5c97-4462-a494-a5116f0ad886",
   "metadata": {},
   "outputs": [
    {
     "ename": "NameError",
     "evalue": "name 'validation_set' is not defined",
     "output_type": "error",
     "traceback": [
      "\u001b[1;31m---------------------------------------------------------------------------\u001b[0m",
      "\u001b[1;31mNameError\u001b[0m                                 Traceback (most recent call last)",
      "Cell \u001b[1;32mIn[3], line 1\u001b[0m\n\u001b[1;32m----> 1\u001b[0m class_name\u001b[38;5;241m=\u001b[39m \u001b[43mvalidation_set\u001b[49m\u001b[38;5;241m.\u001b[39mclass_names\n\u001b[0;32m      2\u001b[0m class_name\n",
      "\u001b[1;31mNameError\u001b[0m: name 'validation_set' is not defined"
     ]
    }
   ],
   "source": [
    "class_name= validation_set.class_names\n",
    "class_name"
   ]
  },
  {
   "cell_type": "code",
   "execution_count": 4,
   "id": "46f2464e-5e3d-4a93-b3a0-c8273568240a",
   "metadata": {},
   "outputs": [
    {
     "ename": "NameError",
     "evalue": "name 'training_hist' is not defined",
     "output_type": "error",
     "traceback": [
      "\u001b[1;31m---------------------------------------------------------------------------\u001b[0m",
      "\u001b[1;31mNameError\u001b[0m                                 Traceback (most recent call last)",
      "Cell \u001b[1;32mIn[4], line 1\u001b[0m\n\u001b[1;32m----> 1\u001b[0m \u001b[43mtraining_hist\u001b[49m\n",
      "\u001b[1;31mNameError\u001b[0m: name 'training_hist' is not defined"
     ]
    }
   ],
   "source": [
    "training_hist"
   ]
  },
  {
   "cell_type": "code",
   "execution_count": null,
   "id": "926e40a4-61b9-4d78-97f0-d04f896f90e7",
   "metadata": {},
   "outputs": [],
   "source": []
  }
 ],
 "metadata": {
  "kernelspec": {
   "display_name": "Python 3 (ipykernel)",
   "language": "python",
   "name": "python3"
  },
  "language_info": {
   "codemirror_mode": {
    "name": "ipython",
    "version": 3
   },
   "file_extension": ".py",
   "mimetype": "text/x-python",
   "name": "python",
   "nbconvert_exporter": "python",
   "pygments_lexer": "ipython3",
   "version": "3.9.18"
  }
 },
 "nbformat": 4,
 "nbformat_minor": 5
}
